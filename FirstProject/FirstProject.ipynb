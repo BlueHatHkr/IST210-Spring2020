{
  "nbformat": 4,
  "nbformat_minor": 0,
  "metadata": {
    "colab": {
      "name": "Untitled1.ipynb",
      "provenance": [],
      "authorship_tag": "ABX9TyN8buG2LFLFxwTt5u6qB3cq",
      "include_colab_link": true
    },
    "kernelspec": {
      "name": "python3",
      "display_name": "Python 3"
    }
  },
  "cells": [
    {
      "cell_type": "markdown",
      "metadata": {
        "id": "view-in-github",
        "colab_type": "text"
      },
      "source": [
        "<a href=\"https://colab.research.google.com/github/BlueHatHkr/IST210-Spring2020/blob/master/FirstProject/FirstProject.ipynb\" target=\"_parent\"><img src=\"https://colab.research.google.com/assets/colab-badge.svg\" alt=\"Open In Colab\"/></a>"
      ]
    },
    {
      "cell_type": "markdown",
      "metadata": {
        "id": "6_7sU6NRExUn",
        "colab_type": "text"
      },
      "source": [
        "# TJ Faber"
      ]
    },
    {
      "cell_type": "markdown",
      "metadata": {
        "id": "Vb-NebeSFm6v",
        "colab_type": "text"
      },
      "source": [
        "![alt text](https://raw.githubusercontent.com/BlueHatHkr/IST210-Spring2020/master/FirstProject/tj.jpg)"
      ]
    },
    {
      "cell_type": "markdown",
      "metadata": {
        "id": "LGlxLBoaE5oS",
        "colab_type": "text"
      },
      "source": [
        "## Interests: Offensive Security, Hardware Repair, Microcontrollers"
      ]
    },
    {
      "cell_type": "markdown",
      "metadata": {
        "id": "IMI3U1JrFVpI",
        "colab_type": "text"
      },
      "source": [
        "## Target Career: Cyber Threat Training and Management"
      ]
    }
  ]
}