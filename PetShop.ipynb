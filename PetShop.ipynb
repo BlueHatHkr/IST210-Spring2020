{
  "nbformat": 4,
  "nbformat_minor": 0,
  "metadata": {
    "colab": {
      "name": "PetShop.ipynb",
      "provenance": [],
      "authorship_tag": "ABX9TyNqeSdWWPSgwlCGgOnUjS7p",
      "include_colab_link": true
    },
    "kernelspec": {
      "name": "python3",
      "display_name": "Python 3"
    }
  },
  "cells": [
    {
      "cell_type": "markdown",
      "metadata": {
        "id": "view-in-github",
        "colab_type": "text"
      },
      "source": [
        "<a href=\"https://colab.research.google.com/github/BlueHatHkr/IST210-Spring2020/blob/master/PetShop.ipynb\" target=\"_parent\"><img src=\"https://colab.research.google.com/assets/colab-badge.svg\" alt=\"Open In Colab\"/></a>"
      ]
    },
    {
      "cell_type": "markdown",
      "metadata": {
        "id": "AHY99OMz4aiF",
        "colab_type": "text"
      },
      "source": [
        "#TJ's Pet Shop ER Diagram"
      ]
    },
    {
      "cell_type": "markdown",
      "metadata": {
        "id": "8muwXX-dw8hP",
        "colab_type": "text"
      },
      "source": [
        "![alt text](https://raw.githubusercontent.com/BlueHatHkr/IST210-Spring2020/master/PetShopER.png)"
      ]
    },
    {
      "cell_type": "markdown",
      "metadata": {
        "id": "EsndG0JYxZjy",
        "colab_type": "text"
      },
      "source": [
        "I designed my pet shop database to be easy to understand for the casual observer, yet effective enough to avoid repetition of data. To accomplish this elegant design though, I did have to make one key assumption: all pets will either enter the database with ISO11784 compliant microchips. For animals for which microchipping would be dangerous, they will be accompanied by a tag attached to their cage with the microchip inside, as well as information uniquely identifying that animal. If this still is not possible, the animal will not be allowed into the pet shop.\n",
        "To design my ER diagram, I analyzed the concept of a pet shop, picking out all the nouns involved in its operation. (Pet, Customer, Food, Enclosure) I then took those entities and created connecting, abstract entities to model the relationship between the objects in the shop. (Adoption and Purchase) Next, I fleshed out the attributes each entity would have by placing the primary keys of my tables into other tables, creating foreign keys. These then became the basis for my connective relationships and cardinality. Finally, I added additional attributes to each entity to make sure the database captured all the information requested by the client in the brief.\n",
        "For additional clarification, any transaction with a pet is called an ‘adoption’ and any transaction with food is called a ‘purchase’. These transactions would have to be processed separately, but this would likely not be a concern. Also, if pets are returned to the shop, they can be involved in additional adoptions.\n"
      ]
    }
  ]
}